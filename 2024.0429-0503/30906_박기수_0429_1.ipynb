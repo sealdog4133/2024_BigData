{
 "cells": [
  {
   "cell_type": "markdown",
   "id": "7af990c0",
   "metadata": {},
   "source": [
    "# 30906_박기수_0429_1"
   ]
  },
  {
   "cell_type": "code",
   "execution_count": 1,
   "id": "c1d3ddcb",
   "metadata": {},
   "outputs": [],
   "source": [
    "spending  = [25, 36, 8, 53, 24, 56]"
   ]
  },
  {
   "cell_type": "code",
   "execution_count": 2,
   "id": "03c36823",
   "metadata": {},
   "outputs": [
    {
     "data": {
      "text/plain": [
       "[25, 36, 8, 53, 24, 56]"
      ]
     },
     "execution_count": 2,
     "metadata": {},
     "output_type": "execute_result"
    }
   ],
   "source": [
    "spending"
   ]
  },
  {
   "cell_type": "code",
   "execution_count": 4,
   "id": "6702eccf",
   "metadata": {},
   "outputs": [
    {
     "data": {
      "text/plain": [
       "list"
      ]
     },
     "execution_count": 4,
     "metadata": {},
     "output_type": "execute_result"
    }
   ],
   "source": [
    "type(spending)"
   ]
  },
  {
   "cell_type": "code",
   "execution_count": 5,
   "id": "68641a94",
   "metadata": {},
   "outputs": [
    {
     "name": "stdout",
     "output_type": "stream",
     "text": [
      "<class 'list'> [25, 36, 8, 53, 24, 56, 38, 79, 94, 20, 40, 25]\n",
      "<class 'list'> [25, 36, 8, 53, 24, 56]\n"
     ]
    }
   ],
   "source": [
    "# 일년 지출\n",
    "spending_year = [25, 36, 8, 53, 24, 56, 38, 79, 94, 20, 40, 25]\n",
    "print(type(spending_year), spending_year)\n",
    "\n",
    "# 상반기 지출\n",
    "spending_6mon = [25, 36, 8, 53, 24, 56]\n",
    "print(type(spending_6mon), spending_6mon)"
   ]
  },
  {
   "cell_type": "code",
   "execution_count": 28,
   "id": "ae3404f8",
   "metadata": {},
   "outputs": [
    {
     "name": "stdout",
     "output_type": "stream",
     "text": [
      "['피자', '치킨', '떡볶이', '스테이크', '딸기', '파스타', '라면', '햄버거']\n"
     ]
    }
   ],
   "source": [
    "# 가장 좋아하는 음식을 순서대로 지정한 리스트\n",
    "food = ['피자','치킨','떡볶이','스테이크','딸기','파스타','라면','햄버거']\n",
    "print(food)"
   ]
  },
  {
   "cell_type": "code",
   "execution_count": 9,
   "id": "2bd14caf",
   "metadata": {},
   "outputs": [
    {
     "name": "stdout",
     "output_type": "stream",
     "text": [
      "좋아하는 음식의 개수 :  6\n"
     ]
    }
   ],
   "source": [
    "print('좋아하는 음식의 개수 : ',len(food)) # 개수 len"
   ]
  },
  {
   "cell_type": "code",
   "execution_count": 13,
   "id": "38416d69",
   "metadata": {},
   "outputs": [
    {
     "name": "stdout",
     "output_type": "stream",
     "text": [
      "좋아하는 음식 순위 :  ['피자', '치킨', '떡볶이', '스테이크', '딸기', '파스타']\n",
      "가장 좋아하는 음식 :  피자\n",
      "가장 싫어하는 음식 :  파스타\n"
     ]
    }
   ],
   "source": [
    "print('좋아하는 음식 순위 : ',food)\n",
    "print('가장 좋아하는 음식 : ',food[0])\n",
    "print('가장 싫어하는 음식 : ',food[-1])"
   ]
  },
  {
   "cell_type": "code",
   "execution_count": 15,
   "id": "d9ee5911",
   "metadata": {},
   "outputs": [
    {
     "name": "stdout",
     "output_type": "stream",
     "text": [
      "피자\n",
      "치킨\n",
      "떡볶이\n",
      "스테이크\n",
      "딸기\n",
      "파스타\n"
     ]
    }
   ],
   "source": [
    "for i in food:\n",
    "    print(i)"
   ]
  },
  {
   "cell_type": "code",
   "execution_count": 31,
   "id": "635cee29",
   "metadata": {},
   "outputs": [
    {
     "name": "stdout",
     "output_type": "stream",
     "text": [
      "좋아하는 음식의 순위별로 출력하세요.\n",
      "1등은 피자\n",
      "2등은 치킨\n",
      "3등은 떡볶이\n",
      "4등은 스테이크\n",
      "5등은 딸기\n",
      "6등은 파스타\n",
      "7등은 라면\n",
      "8등은 햄버거\n"
     ]
    }
   ],
   "source": [
    "print('좋아하는 음식의 순위별로 출력하세요.')\n",
    "for i in range(len(food)):\n",
    "    print(f'{i+1}등은 {food[i]}')\n",
    "        "
   ]
  },
  {
   "cell_type": "code",
   "execution_count": 33,
   "id": "7e457444",
   "metadata": {},
   "outputs": [
    {
     "name": "stdout",
     "output_type": "stream",
     "text": [
      "['피자', '치킨', '떡볶이', '스테이크', '딸기', '파스타', '라면', '햄버거', '감자칩', '감자칩']\n"
     ]
    }
   ],
   "source": [
    "# food에 감자칩을 추가해 주면\n",
    "food.append('감자칩')\n",
    "print(food)"
   ]
  },
  {
   "cell_type": "code",
   "execution_count": 41,
   "id": "e6bdb2c7",
   "metadata": {},
   "outputs": [
    {
     "name": "stdout",
     "output_type": "stream",
     "text": [
      "해야할 일을 차례대로 적어주세요.\n",
      "선물 사기\n",
      "인강 듣기\n",
      "빅데이터 분석 공부하기\n",
      "영단어 외우기\n",
      "책 읽기\n",
      "['선물 사기', '인강 듣기', '빅데이터 분석 공부하기', '영단어 외우기', '책 읽기']\n"
     ]
    }
   ],
   "source": [
    "to_do = []\n",
    "print('해야할 일을 차례대로 적어주세요.')\n",
    "\n",
    "for i in range(5):\n",
    "    to_do.append(input())\n",
    "    \n",
    "print(to_do)"
   ]
  },
  {
   "cell_type": "code",
   "execution_count": 40,
   "id": "c757316b",
   "metadata": {},
   "outputs": [
    {
     "name": "stdout",
     "output_type": "stream",
     "text": [
      "['인강듣기', '빅데이터분석 공부하기', '영단어 외우기']\n"
     ]
    }
   ],
   "source": [
    "# 리스트에서 지우는 명령어 remove\n",
    "to_do.remove('책일기')\n",
    "print(to_do)"
   ]
  },
  {
   "cell_type": "code",
   "execution_count": 42,
   "id": "e8070d19",
   "metadata": {},
   "outputs": [
    {
     "name": "stdout",
     "output_type": "stream",
     "text": [
      "연도 :  2024\n",
      "월 :  04\n",
      "일 :  29\n"
     ]
    }
   ],
   "source": [
    "date = '2024-04-29'\n",
    "\n",
    "print('연도 : ',date[0:4])\n",
    "print('월 : ',date[5:7])\n",
    "print('일 : ',date[-2:])"
   ]
  }
 ],
 "metadata": {
  "kernelspec": {
   "display_name": "Python 3 (ipykernel)",
   "language": "python",
   "name": "python3"
  },
  "language_info": {
   "codemirror_mode": {
    "name": "ipython",
    "version": 3
   },
   "file_extension": ".py",
   "mimetype": "text/x-python",
   "name": "python",
   "nbconvert_exporter": "python",
   "pygments_lexer": "ipython3",
   "version": "3.9.7"
  }
 },
 "nbformat": 4,
 "nbformat_minor": 5
}
