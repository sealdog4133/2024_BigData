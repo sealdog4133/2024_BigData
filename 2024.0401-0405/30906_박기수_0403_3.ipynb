{
 "cells": [
  {
   "cell_type": "markdown",
   "id": "70a5df93",
   "metadata": {},
   "source": [
    "# 30906_박기수_0403_3"
   ]
  },
  {
   "cell_type": "code",
   "execution_count": 9,
   "id": "5d144fa5",
   "metadata": {},
   "outputs": [
    {
     "name": "stdout",
     "output_type": "stream",
     "text": [
      "5\n",
      "6\n"
     ]
    }
   ],
   "source": [
    "n = int(input())\n",
    "s = 0\n",
    "for i in range(1,n+1):\n",
    "    if i%2==0:\n",
    "        s += i\n",
    "        \n",
    "print(s)"
   ]
  },
  {
   "cell_type": "code",
   "execution_count": null,
   "id": "ee41efeb",
   "metadata": {},
   "outputs": [],
   "source": [
    "while True:\n",
    "    x = input()\n",
    "    print(x)\n",
    "    if x == 'q':\n",
    "        break\n",
    "    "
   ]
  },
  {
   "cell_type": "code",
   "execution_count": 15,
   "id": "5e0bc543",
   "metadata": {},
   "outputs": [
    {
     "name": "stdout",
     "output_type": "stream",
     "text": [
      "55\n",
      "10\n"
     ]
    }
   ],
   "source": [
    "n = int(input())\n",
    "\n",
    "s = 0\n",
    "t = 0\n",
    "while s < n:\n",
    "    t = t+1\n",
    "    s = s+t\n",
    "print(t)"
   ]
  },
  {
   "cell_type": "code",
   "execution_count": 19,
   "id": "cc2a736f",
   "metadata": {},
   "outputs": [
    {
     "name": "stdout",
     "output_type": "stream",
     "text": [
      "2 3\n",
      "1 1\n",
      "1 2\n",
      "1 3\n",
      "2 1\n",
      "2 2\n",
      "2 3\n"
     ]
    }
   ],
   "source": [
    "n,m = map(int,input().split())\n",
    "for i in range(1, n+1):\n",
    "    for j in range(1, m+1):\n",
    "        print(i,j)"
   ]
  },
  {
   "cell_type": "code",
   "execution_count": 25,
   "id": "ad336c0c",
   "metadata": {},
   "outputs": [
    {
     "name": "stdout",
     "output_type": "stream",
     "text": [
      "B\n",
      "B*1=B\n",
      "B*2=16\n",
      "B*3=21\n",
      "B*4=2C\n",
      "B*5=37\n",
      "B*6=42\n",
      "B*7=4D\n",
      "B*8=58\n",
      "B*9=63\n",
      "B*A=6E\n",
      "B*B=79\n",
      "B*C=84\n",
      "B*D=8F\n",
      "B*E=9A\n",
      "B*F=A5\n"
     ]
    }
   ],
   "source": [
    "n = input()\n",
    "n = int(n, 16)\n",
    "\n",
    "for i in range(1, 16):\n",
    "    print('%X'%n, '*%X'%i, '=%X'%(n*i), sep='')"
   ]
  },
  {
   "cell_type": "code",
   "execution_count": null,
   "id": "f42372db",
   "metadata": {},
   "outputs": [],
   "source": []
  },
  {
   "cell_type": "code",
   "execution_count": null,
   "id": "4aa19b91",
   "metadata": {},
   "outputs": [],
   "source": []
  }
 ],
 "metadata": {
  "kernelspec": {
   "display_name": "Python 3 (ipykernel)",
   "language": "python",
   "name": "python3"
  },
  "language_info": {
   "codemirror_mode": {
    "name": "ipython",
    "version": 3
   },
   "file_extension": ".py",
   "mimetype": "text/x-python",
   "name": "python",
   "nbconvert_exporter": "python",
   "pygments_lexer": "ipython3",
   "version": "3.10.9"
  }
 },
 "nbformat": 4,
 "nbformat_minor": 5
}
