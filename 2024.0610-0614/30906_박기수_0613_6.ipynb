{
 "cells": [
  {
   "cell_type": "markdown",
   "id": "d5992fa7",
   "metadata": {},
   "source": [
    "# 30906_박기수_0613_6"
   ]
  },
  {
   "cell_type": "code",
   "execution_count": 5,
   "id": "0dea73b2",
   "metadata": {},
   "outputs": [
    {
     "data": {
      "image/png": "[encoded data removed]",
      "text/plain": [
       "<Figure size 432x288 with 1 Axes>"
      ]
     },
     "metadata": {
      "needs_background": "light"
     },
     "output_type": "display_data"
    }
   ],
   "source": [
    "# 라이브러리 불러오기 및 별명 지정하기\n",
    "import matplotlib.pyplot as plt\n",
    "# 한글폰트 적용하기\n",
    "plt.rc('font',family = 'Malgun Gothic')\n",
    "\n",
    "# data\n",
    "sales = [1,5,7,3,7]\n",
    "month = [3,4,5,6,7]\n",
    "\n",
    "# 제목\n",
    "plt.title('월별 판매 실적')\n",
    "\n",
    "# 가로 바차트 그리기 barh ramge(시작, 마지막+1)\n",
    "plt.barh(range(3,8),sales,color='red')\n",
    "plt.show()\n",
    "\n"
   ]
  },
  {
   "cell_type": "markdown",
   "id": "8aa080fb",
   "metadata": {},
   "source": [
    "## 히스토그램 그리기"
   ]
  },
  {
   "cell_type": "code",
   "execution_count": 10,
   "id": "8bb4e7a4",
   "metadata": {},
   "outputs": [
    {
     "data": {
      "image/png": "[encoded data removed]",
      "text/plain": [
       "<Figure size 432x288 with 1 Axes>"
      ]
     },
     "metadata": {
      "needs_background": "light"
     },
     "output_type": "display_data"
    }
   ],
   "source": [
    "sales = [1,5,7,3,7,7,4,2,3,5,6,8]\n",
    "\n",
    "plt.hist(sales)\n",
    "plt.show()"
   ]
  },
  {
   "cell_type": "code",
   "execution_count": 13,
   "id": "05ef1859",
   "metadata": {},
   "outputs": [
    {
     "name": "stdout",
     "output_type": "stream",
     "text": [
      "[8, 8, 8, 5, 5, 4, 1, 10, 2, 8]\n"
     ]
    },
    {
     "data": {
      "image/png": "[encoded data removed]",
      "text/plain": [
       "<Figure size 432x288 with 1 Axes>"
      ]
     },
     "metadata": {
      "needs_background": "light"
     },
     "output_type": "display_data"
    }
   ],
   "source": [
    "import matplotlib.pyplot as plt\n",
    "import random\n",
    "\n",
    "a = []\n",
    "for i in range(10):\n",
    "    a.append(random.randint(1,10))\n",
    "print(a)\n",
    "\n",
    "plt.hist(a)\n",
    "plt.show()"
   ]
  },
  {
   "cell_type": "code",
   "execution_count": null,
   "id": "35552192",
   "metadata": {},
   "outputs": [],
   "source": []
  }
 ],
 "metadata": {
  "kernelspec": {
   "display_name": "Python 3 (ipykernel)",
   "language": "python",
   "name": "python3"
  },
  "language_info": {
   "codemirror_mode": {
    "name": "ipython",
    "version": 3
   },
   "file_extension": ".py",
   "mimetype": "text/x-python",
   "name": "python",
   "nbconvert_exporter": "python",
   "pygments_lexer": "ipython3",
   "version": "3.9.7"
  }
 },
 "nbformat": 4,
 "nbformat_minor": 5
}
