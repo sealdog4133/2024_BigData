{
 "cells": [
  {
   "cell_type": "markdown",
   "id": "16d60b09",
   "metadata": {},
   "source": [
    "# 30906_박기수_0321_7"
   ]
  },
  {
   "cell_type": "code",
   "execution_count": 4,
   "id": "29f8b458",
   "metadata": {},
   "outputs": [
    {
     "name": "stdout",
     "output_type": "stream",
     "text": [
      "+와 -를 번갈아 출력합니다.\n",
      "몇 개를 출력할까요?: 20\n",
      "+-+-+-+-+-+-+-+-+-+-\n"
     ]
    }
   ],
   "source": [
    "# + 와 -를 번갈아 출력하기 1\n",
    "\n",
    "print('+와 -를 번갈아 출력합니다.')\n",
    "n = int(input('몇 개를 출력할까요?: '))\n",
    "\n",
    "for i in range(1,n+1):\n",
    "    if i % 2:\n",
    "        print('+',end='')\n",
    "    else:\n",
    "        print('-',end='')\n",
    "\n",
    "print()"
   ]
  },
  {
   "cell_type": "code",
   "execution_count": 6,
   "id": "c5294e61",
   "metadata": {},
   "outputs": [
    {
     "name": "stdout",
     "output_type": "stream",
     "text": [
      "+와 -를 번갈아 출력합니다.\n",
      "몇 개를 출력할까요?: 20\n",
      "+-+-+-+-+-+-+-+-+-+-\n"
     ]
    }
   ],
   "source": [
    "# range(처음값, 미지값)\n",
    "\n",
    "print('+와 -를 번갈아 출력합니다.')\n",
    "n = int(input('몇 개를 출력할까요?: '))\n",
    "\n",
    "for _ in range(n // 2):\n",
    "    print('+-',end='')  # n // 2개의 +=를 출력\n",
    "if n % 2:\n",
    "    print('+',end='')  # n이 홀 수 일때만 +출력\n",
    "print()"
   ]
  },
  {
   "cell_type": "code",
   "execution_count": 9,
   "id": "dadf6955",
   "metadata": {},
   "outputs": [
    {
     "name": "stdout",
     "output_type": "stream",
     "text": [
      "*를 출력합니다.\n",
      "몇 개를 출력할까요?: 20\n",
      "몇 개마다 출력할까요?: 7\n",
      "*******\n",
      "*******\n",
      "******"
     ]
    }
   ],
   "source": [
    "print('*를 출력합니다.')\n",
    "a = int(input('몇 개를 출력할까요?: '))\n",
    "w = int(input('몇 개마다 출력할까요?: '))\n",
    "\n",
    "# n번 반복\n",
    "for i in range(n):\n",
    "    print('*',end='')\n",
    "    if i % w == w - 1:  #n번 판단\n",
    "        print() #줄바꿈\n"
   ]
  },
  {
   "cell_type": "code",
   "execution_count": 10,
   "id": "a3c6f1bf",
   "metadata": {},
   "outputs": [
    {
     "name": "stdout",
     "output_type": "stream",
     "text": [
      "1부터 n까지 정수의 합을 구합니다.\n",
      "n값을 입력하세요.: -6\n",
      "n값을 입력하세요.: 0\n",
      "n값을 입력하세요.: 10\n",
      "1부터 10까지 정수의 합은 55입니다.\n"
     ]
    }
   ],
   "source": [
    "print('1부터 n까지 정수의 합을 구합니다.')\n",
    "\n",
    "while True:\n",
    "    n = int(input('n값을 입력하세요.: '))\n",
    "    if n > 0 :\n",
    "        break\n",
    "\n",
    "sum = 0\n",
    "i = 1\n",
    "\n",
    "for i in range(1, n+1):\n",
    "    sum += i\n",
    "    i += 1\n",
    "    \n",
    "print(f'1부터 {n}까지 정수의 합은 {sum}입니다.')"
   ]
  },
  {
   "cell_type": "code",
   "execution_count": null,
   "id": "3c721b06",
   "metadata": {},
   "outputs": [],
   "source": []
  },
  {
   "cell_type": "code",
   "execution_count": null,
   "id": "fe8ae3aa",
   "metadata": {},
   "outputs": [],
   "source": []
  },
  {
   "cell_type": "code",
   "execution_count": null,
   "id": "5fc00e15",
   "metadata": {},
   "outputs": [],
   "source": []
  },
  {
   "cell_type": "code",
   "execution_count": null,
   "id": "44cc96a7",
   "metadata": {},
   "outputs": [],
   "source": []
  },
  {
   "cell_type": "code",
   "execution_count": null,
   "id": "51cb98f1",
   "metadata": {},
   "outputs": [],
   "source": []
  },
  {
   "cell_type": "code",
   "execution_count": null,
   "id": "b253eda3",
   "metadata": {},
   "outputs": [],
   "source": []
  },
  {
   "cell_type": "code",
   "execution_count": null,
   "id": "b98bb92c",
   "metadata": {},
   "outputs": [],
   "source": []
  },
  {
   "cell_type": "code",
   "execution_count": null,
   "id": "0bf80743",
   "metadata": {},
   "outputs": [],
   "source": []
  },
  {
   "cell_type": "code",
   "execution_count": null,
   "id": "043a9314",
   "metadata": {},
   "outputs": [],
   "source": []
  },
  {
   "cell_type": "code",
   "execution_count": null,
   "id": "d414f399",
   "metadata": {},
   "outputs": [],
   "source": []
  },
  {
   "cell_type": "code",
   "execution_count": null,
   "id": "67ca8c02",
   "metadata": {},
   "outputs": [],
   "source": []
  },
  {
   "cell_type": "code",
   "execution_count": null,
   "id": "200d4753",
   "metadata": {},
   "outputs": [],
   "source": []
  },
  {
   "cell_type": "code",
   "execution_count": null,
   "id": "c9ac9ce3",
   "metadata": {},
   "outputs": [],
   "source": []
  },
  {
   "cell_type": "code",
   "execution_count": null,
   "id": "4e5d342f",
   "metadata": {},
   "outputs": [],
   "source": []
  },
  {
   "cell_type": "code",
   "execution_count": null,
   "id": "683d7267",
   "metadata": {},
   "outputs": [],
   "source": []
  },
  {
   "cell_type": "code",
   "execution_count": null,
   "id": "a1f12ef9",
   "metadata": {},
   "outputs": [],
   "source": []
  },
  {
   "cell_type": "code",
   "execution_count": null,
   "id": "50fda9d9",
   "metadata": {},
   "outputs": [],
   "source": []
  },
  {
   "cell_type": "code",
   "execution_count": null,
   "id": "34eb674a",
   "metadata": {},
   "outputs": [],
   "source": []
  },
  {
   "cell_type": "code",
   "execution_count": null,
   "id": "555d2da9",
   "metadata": {},
   "outputs": [],
   "source": []
  }
 ],
 "metadata": {
  "kernelspec": {
   "display_name": "Python 3 (ipykernel)",
   "language": "python",
   "name": "python3"
  },
  "language_info": {
   "codemirror_mode": {
    "name": "ipython",
    "version": 3
   },
   "file_extension": ".py",
   "mimetype": "text/x-python",
   "name": "python",
   "nbconvert_exporter": "python",
   "pygments_lexer": "ipython3",
   "version": "3.9.7"
  }
 },
 "nbformat": 4,
 "nbformat_minor": 5
}
