{
 "cells": [
  {
   "cell_type": "markdown",
   "id": "040b541c",
   "metadata": {},
   "source": [
    "# 30906_박기수_0320_3"
   ]
  },
  {
   "cell_type": "code",
   "execution_count": 12,
   "id": "c78f1b25",
   "metadata": {},
   "outputs": [
    {
     "name": "stdout",
     "output_type": "stream",
     "text": [
      "a부터 b까지 정수의 합을 구합니다.\n",
      "정수 a를 입력하세요.: 10\n",
      "정수 b를 입력하세요.: 1\n",
      "1 +2 +3 +4 +5 +6 +7 +8 +9 +10 = 55\n"
     ]
    }
   ],
   "source": [
    "print('a부터 b까지 정수의 합을 구합니다.')\n",
    "\n",
    "a = int(input('정수 a를 입력하세요.: '))\n",
    "b = int(input('정수 b를 입력하세요.: '))\n",
    "\n",
    "# 오름차순 정렬\n",
    "if b < a :\n",
    "    a ,b = b, a\n",
    "    \n",
    "sum = 0\n",
    "for i in range(a ,b+1):\n",
    "    if i < b:\n",
    "        print(f'{i} +', end=\"\")\n",
    "    else:\n",
    "        print(f'{i} = ', end=\"\")\n",
    "    sum = sum + i\n",
    "\n",
    "\n",
    "print(sum)"
   ]
  },
  {
   "cell_type": "code",
   "execution_count": 11,
   "id": "7f1863d0",
   "metadata": {},
   "outputs": [
    {
     "name": "stdout",
     "output_type": "stream",
     "text": [
      "a부터 b까지 정수의 합을 구합니다.\n",
      "정수 a를 입력하세요.: 10\n",
      "정수 b를 입력하세요.: 1\n",
      "1 +2 +3 +4 +5 +6 +7 +8 +9 +10 = 55\n"
     ]
    }
   ],
   "source": [
    "print('a부터 b까지 정수의 합을 구합니다.')\n",
    "a = int(input('정수 a를 입력하세요.: '))\n",
    "b = int(input('정수 b를 입력하세요.: '))\n",
    "\n",
    "if a > b :\n",
    "    a ,b = b ,a\n",
    "    \n",
    "sum = 0\n",
    "\n",
    "for i in range(a ,b):\n",
    "    print(f'{i} +',end=\"\")\n",
    "    sum = sum + i\n",
    "\n",
    "print(f'{b} = ', end=\"\")\n",
    "sum = sum + b\n",
    "\n",
    "print(sum)"
   ]
  },
  {
   "cell_type": "code",
   "execution_count": 13,
   "id": "cc78ba85",
   "metadata": {},
   "outputs": [
    {
     "name": "stdout",
     "output_type": "stream",
     "text": [
      "+ 와 -를 번갈아 출력합니다.\n",
      "몇 개를 출력할까요? : 12\n",
      "+-+-+-+-+-+-\n"
     ]
    }
   ],
   "source": [
    "print('+ 와 -를 번갈아 출력합니다.')\n",
    "n = int(input('몇 개를 출력할까요? : '))\n",
    "\n",
    "for i in range(n):\n",
    "    if i % 2:\n",
    "        print('-',end=\"\")\n",
    "    else:\n",
    "        print('+',end=\"\")\n",
    "print()"
   ]
  },
  {
   "cell_type": "code",
   "execution_count": null,
   "id": "805bbcc5",
   "metadata": {},
   "outputs": [],
   "source": []
  },
  {
   "cell_type": "code",
   "execution_count": null,
   "id": "9d27bf92",
   "metadata": {},
   "outputs": [],
   "source": []
  },
  {
   "cell_type": "code",
   "execution_count": null,
   "id": "5b74c85b",
   "metadata": {},
   "outputs": [],
   "source": []
  },
  {
   "cell_type": "code",
   "execution_count": null,
   "id": "1cda3d4e",
   "metadata": {},
   "outputs": [],
   "source": []
  },
  {
   "cell_type": "code",
   "execution_count": null,
   "id": "b070b0d9",
   "metadata": {},
   "outputs": [],
   "source": []
  },
  {
   "cell_type": "code",
   "execution_count": null,
   "id": "e6be7416",
   "metadata": {},
   "outputs": [],
   "source": []
  },
  {
   "cell_type": "code",
   "execution_count": null,
   "id": "13bf7b85",
   "metadata": {},
   "outputs": [],
   "source": []
  },
  {
   "cell_type": "code",
   "execution_count": null,
   "id": "9eaff046",
   "metadata": {},
   "outputs": [],
   "source": []
  }
 ],
 "metadata": {
  "kernelspec": {
   "display_name": "Python 3 (ipykernel)",
   "language": "python",
   "name": "python3"
  },
  "language_info": {
   "codemirror_mode": {
    "name": "ipython",
    "version": 3
   },
   "file_extension": ".py",
   "mimetype": "text/x-python",
   "name": "python",
   "nbconvert_exporter": "python",
   "pygments_lexer": "ipython3",
   "version": "3.9.7"
  }
 },
 "nbformat": 4,
 "nbformat_minor": 5
}
