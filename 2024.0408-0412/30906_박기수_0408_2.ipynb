{
 "cells": [
  {
   "cell_type": "markdown",
   "id": "0a826e7f",
   "metadata": {},
   "source": [
    "# 30906_박기수_0408_2"
   ]
  },
  {
   "cell_type": "code",
   "execution_count": 10,
   "id": "5f9cfa8a",
   "metadata": {},
   "outputs": [
    {
     "name": "stdout",
     "output_type": "stream",
     "text": [
      "44100 16 2 10\n",
      ".1f\n"
     ]
    }
   ],
   "source": [
    "a,b,c,d = map(int,input().split())\n",
    "v = (a*b*c*d)/8\n",
    "v = format('.1f')\n",
    "print(v)"
   ]
  },
  {
   "cell_type": "code",
   "execution_count": 20,
   "id": "b570a45c",
   "metadata": {},
   "outputs": [
    {
     "name": "stdout",
     "output_type": "stream",
     "text": [
      "100 100 4\n",
      "0.0 MB\n"
     ]
    }
   ],
   "source": [
    "a,b,c = map(int,input().split())\n",
    "\n",
    "print(round((a*b*c/8)/1024/1024, 2), \"MB\")"
   ]
  },
  {
   "cell_type": "code",
   "execution_count": 24,
   "id": "a9be117c",
   "metadata": {},
   "outputs": [
    {
     "name": "stdout",
     "output_type": "stream",
     "text": [
      "1024 768 24\n",
      "2.25 MB\n"
     ]
    }
   ],
   "source": [
    "r, g, b = map(int, input().split())\n",
    "\n",
    "print(format(r*g*b/8/1024/1024, '.2f'),\"MB\")"
   ]
  },
  {
   "cell_type": "code",
   "execution_count": 34,
   "id": "7e72c07d",
   "metadata": {},
   "outputs": [
    {
     "name": "stdout",
     "output_type": "stream",
     "text": [
      "57\n",
      "66\n"
     ]
    }
   ],
   "source": [
    "n = int(input())\n",
    "s = 0\n",
    "c = 1\n",
    "while True:\n",
    "    s += c\n",
    "    c += 1\n",
    "    if s>=n:\n",
    "        break\n",
    "    print(s)"
   ]
  },
  {
   "cell_type": "code",
   "execution_count": 33,
   "id": "4b1cad3a",
   "metadata": {},
   "outputs": [
    {
     "name": "stdout",
     "output_type": "stream",
     "text": [
      "57\n",
      "66\n"
     ]
    }
   ],
   "source": [
    "n = int(input())\n",
    "s = 0\n",
    "c = 1\n",
    "while True:\n",
    "    s += c\n",
    "    c += 1\n",
    "    if s >= n:\n",
    "        break\n",
    "print(s)"
   ]
  },
  {
   "cell_type": "code",
   "execution_count": 39,
   "id": "d5398274",
   "metadata": {},
   "outputs": [
    {
     "name": "stdout",
     "output_type": "stream",
     "text": [
      "10\n",
      "1 2 4 5 7 8 10 "
     ]
    }
   ],
   "source": [
    "n = int(input())\n",
    "\n",
    "for i in range(1, n+1) :\n",
    "    if i%3==0 :\n",
    "        continue\n",
    "    else :\n",
    "        print(i, end=' ')\n"
   ]
  },
  {
   "cell_type": "code",
   "execution_count": null,
   "id": "59f8ceba",
   "metadata": {},
   "outputs": [],
   "source": []
  },
  {
   "cell_type": "code",
   "execution_count": null,
   "id": "afe2d2ef",
   "metadata": {},
   "outputs": [],
   "source": []
  }
 ],
 "metadata": {
  "kernelspec": {
   "display_name": "Python 3 (ipykernel)",
   "language": "python",
   "name": "python3"
  },
  "language_info": {
   "codemirror_mode": {
    "name": "ipython",
    "version": 3
   },
   "file_extension": ".py",
   "mimetype": "text/x-python",
   "name": "python",
   "nbconvert_exporter": "python",
   "pygments_lexer": "ipython3",
   "version": "3.9.7"
  }
 },
 "nbformat": 4,
 "nbformat_minor": 5
}
