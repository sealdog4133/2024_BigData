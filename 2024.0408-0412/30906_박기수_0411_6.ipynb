{
 "cells": [
  {
   "cell_type": "markdown",
   "id": "ed9c658f",
   "metadata": {},
   "source": [
    "# 30906_박기수_0411_6"
   ]
  },
  {
   "cell_type": "code",
   "execution_count": null,
   "id": "34ee89d4",
   "metadata": {},
   "outputs": [],
   "source": [
    "# 등급을 구분하는 프로그램\n",
    "# 80점 이상이면 A 40점 이상이면 B 나머지 C 등급 출력\n",
    "# 0 ~ 100 사이 이외의 숫자는 \"잘못된 숫자를 입력했습니다.\"\n"
   ]
  },
  {
   "cell_type": "code",
   "execution_count": 16,
   "id": "b1c8c67b",
   "metadata": {},
   "outputs": [
    {
     "name": "stdout",
     "output_type": "stream",
     "text": [
      "점수를 입력하세요.79\n",
      "B\n"
     ]
    }
   ],
   "source": [
    "# 입력설계\n",
    "v = int(input(\"점수를 입력하세요.\"))\n",
    "\n",
    "\n",
    "# 올바른 숫자 범위가 맞는지 틀리는지 구분\n",
    "if v < 0 or v > 100:\n",
    "    print(\"잘못된 숫자를 입력했습니다.\")\n",
    "# 80점 이상 A등급 출력\n",
    "elif v >= 80:\n",
    "    print(\"A\")\n",
    "# 40점 이상 B등급 출력\n",
    "elif v >= 40:\n",
    "    print(\"B\")\n",
    "# 나머지 C등급 출력\n",
    "else:\n",
    "    print(\"C\")"
   ]
  },
  {
   "cell_type": "code",
   "execution_count": 17,
   "id": "b3055f14",
   "metadata": {},
   "outputs": [
    {
     "name": "stdout",
     "output_type": "stream",
     "text": [
      "점수 : 100\n",
      "A등급\n"
     ]
    }
   ],
   "source": [
    "score = int(input('점수 : '))\n",
    "\n",
    "if score < 0 or score > 100:\n",
    "    print(f'잘못된 숫자를 입력했습니다.')\n",
    "else:\n",
    "    if score >= 80:\n",
    "        print(f'A등급')\n",
    "    elif score >= 40:\n",
    "        print(f'B등급')\n",
    "    else:\n",
    "        print(f'C등급')"
   ]
  },
  {
   "cell_type": "code",
   "execution_count": 18,
   "id": "8003dbd9",
   "metadata": {},
   "outputs": [
    {
     "name": "stdout",
     "output_type": "stream",
     "text": [
      "안녕하세요\n",
      "안녕하세요\n",
      "안녕하세요\n",
      "안녕하세요\n",
      "안녕하세요\n"
     ]
    }
   ],
   "source": [
    "for a in [1,2,3,4,5]:\n",
    "    print('안녕하세요')"
   ]
  },
  {
   "cell_type": "code",
   "execution_count": 19,
   "id": "cb11fef2",
   "metadata": {},
   "outputs": [
    {
     "name": "stdout",
     "output_type": "stream",
     "text": [
      "1 을(를) 저장 중입니다.\n",
      "2 을(를) 저장 중입니다.\n",
      "3 을(를) 저장 중입니다.\n",
      "4 을(를) 저장 중입니다.\n",
      "5 을(를) 저장 중입니다.\n"
     ]
    }
   ],
   "source": [
    "for a in [1,2,3,4,5]:\n",
    "    print(a, '을(를) 저장 중입니다.')"
   ]
  },
  {
   "cell_type": "code",
   "execution_count": 21,
   "id": "6bccd783",
   "metadata": {},
   "outputs": [
    {
     "name": "stdout",
     "output_type": "stream",
     "text": [
      "9 안녕하세요.\n",
      "8 안녕하세요.\n",
      "7 안녕하세요.\n",
      "6 안녕하세요.\n",
      "5 안녕하세요.\n",
      "4 안녕하세요.\n",
      "3 안녕하세요.\n",
      "2 안녕하세요.\n",
      "1 안녕하세요.\n",
      "0 안녕하세요.\n"
     ]
    }
   ],
   "source": [
    "for a in [9,8,7,6,5,4,3,2,1,0]:\n",
    "    print(a,'안녕하세요.')"
   ]
  },
  {
   "cell_type": "code",
   "execution_count": 22,
   "id": "e5730f03",
   "metadata": {
    "scrolled": true
   },
   "outputs": [
    {
     "name": "stdout",
     "output_type": "stream",
     "text": [
      "1 선생님, 다시는 청소를 빼먹지 않겠습니다.\n",
      "2 선생님, 다시는 청소를 빼먹지 않겠습니다.\n",
      "3 선생님, 다시는 청소를 빼먹지 않겠습니다.\n",
      "4 선생님, 다시는 청소를 빼먹지 않겠습니다.\n",
      "5 선생님, 다시는 청소를 빼먹지 않겠습니다.\n",
      "6 선생님, 다시는 청소를 빼먹지 않겠습니다.\n",
      "7 선생님, 다시는 청소를 빼먹지 않겠습니다.\n",
      "8 선생님, 다시는 청소를 빼먹지 않겠습니다.\n",
      "9 선생님, 다시는 청소를 빼먹지 않겠습니다.\n",
      "10 선생님, 다시는 청소를 빼먹지 않겠습니다.\n",
      "11 선생님, 다시는 청소를 빼먹지 않겠습니다.\n",
      "12 선생님, 다시는 청소를 빼먹지 않겠습니다.\n",
      "13 선생님, 다시는 청소를 빼먹지 않겠습니다.\n",
      "14 선생님, 다시는 청소를 빼먹지 않겠습니다.\n",
      "15 선생님, 다시는 청소를 빼먹지 않겠습니다.\n",
      "16 선생님, 다시는 청소를 빼먹지 않겠습니다.\n",
      "17 선생님, 다시는 청소를 빼먹지 않겠습니다.\n",
      "18 선생님, 다시는 청소를 빼먹지 않겠습니다.\n",
      "19 선생님, 다시는 청소를 빼먹지 않겠습니다.\n",
      "20 선생님, 다시는 청소를 빼먹지 않겠습니다.\n"
     ]
    }
   ],
   "source": [
    "for a in range(1, 21):\n",
    "    print(a, '선생님, 다시는 청소를 빼먹지 않겠습니다.')"
   ]
  },
  {
   "cell_type": "code",
   "execution_count": 23,
   "id": "c834133c",
   "metadata": {},
   "outputs": [
    {
     "name": "stdout",
     "output_type": "stream",
     "text": [
      "1\n",
      "3\n",
      "5\n",
      "7\n",
      "9\n",
      "11\n",
      "13\n",
      "15\n",
      "17\n",
      "19\n"
     ]
    }
   ],
   "source": [
    "# range()에 간격추가하기\n",
    "for a in range(1, 20, 2):\n",
    "    print(a)"
   ]
  },
  {
   "cell_type": "code",
   "execution_count": 25,
   "id": "a3eaca30",
   "metadata": {},
   "outputs": [
    {
     "name": "stdout",
     "output_type": "stream",
     "text": [
      "1\n",
      "3\n",
      "6\n",
      "10\n",
      "15\n",
      "21\n",
      "28\n",
      "36\n",
      "45\n",
      "55\n",
      "66\n",
      "78\n",
      "91\n",
      "105\n",
      "120\n",
      "136\n",
      "153\n",
      "171\n",
      "190\n",
      "210\n",
      "231\n",
      "253\n",
      "276\n",
      "300\n",
      "325\n",
      "351\n",
      "378\n",
      "406\n",
      "435\n",
      "465\n",
      "496\n",
      "528\n",
      "561\n",
      "595\n",
      "630\n",
      "666\n",
      "703\n",
      "741\n",
      "780\n",
      "820\n",
      "861\n",
      "903\n",
      "946\n",
      "990\n",
      "1035\n",
      "1081\n",
      "1128\n",
      "1176\n",
      "1225\n",
      "1275\n"
     ]
    }
   ],
   "source": [
    "result = 0\n",
    "\n",
    "for i in range(1, 51):\n",
    "    result += i\n",
    "    print(result)"
   ]
  }
 ],
 "metadata": {
  "kernelspec": {
   "display_name": "Python 3 (ipykernel)",
   "language": "python",
   "name": "python3"
  },
  "language_info": {
   "codemirror_mode": {
    "name": "ipython",
    "version": 3
   },
   "file_extension": ".py",
   "mimetype": "text/x-python",
   "name": "python",
   "nbconvert_exporter": "python",
   "pygments_lexer": "ipython3",
   "version": "3.9.7"
  }
 },
 "nbformat": 4,
 "nbformat_minor": 5
}
