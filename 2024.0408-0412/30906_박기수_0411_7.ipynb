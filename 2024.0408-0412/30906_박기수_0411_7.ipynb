{
 "cells": [
  {
   "cell_type": "markdown",
   "id": "f8539670",
   "metadata": {},
   "source": [
    "# 30906_박기수_0411_7"
   ]
  },
  {
   "cell_type": "code",
   "execution_count": 11,
   "id": "54323ec1",
   "metadata": {},
   "outputs": [
    {
     "name": "stdout",
     "output_type": "stream",
     "text": [
      "1 3 5\n",
      "4\n",
      "7\n",
      "10\n",
      "13\n"
     ]
    }
   ],
   "source": [
    "x, y, z = map(int,input().split())\n",
    "\n",
    "for i in range(z-1):\n",
    "    x += y\n",
    "    print(x)"
   ]
  },
  {
   "cell_type": "code",
   "execution_count": 15,
   "id": "fe007fc9",
   "metadata": {},
   "outputs": [
    {
     "name": "stdout",
     "output_type": "stream",
     "text": [
      "2 3 7\n",
      "1458\n"
     ]
    }
   ],
   "source": [
    "x,y,z = map(int,input().split())\n",
    "\n",
    "for i in range(z-1):\n",
    "    x *= y\n",
    "print(x)"
   ]
  },
  {
   "cell_type": "code",
   "execution_count": 26,
   "id": "beff0585",
   "metadata": {},
   "outputs": [
    {
     "name": "stdout",
     "output_type": "stream",
     "text": [
      "1 -2 1 8\n",
      "-85\n"
     ]
    }
   ],
   "source": [
    "x,y,z,v = map(int,input().split())\n",
    "\n",
    "for i in range(v-1):\n",
    "    x = x*y+z \n",
    "print(x)"
   ]
  },
  {
   "cell_type": "code",
   "execution_count": 28,
   "id": "fceb8949",
   "metadata": {
    "scrolled": true
   },
   "outputs": [
    {
     "name": "stdout",
     "output_type": "stream",
     "text": [
      "3 7 9\n",
      "63\n"
     ]
    }
   ],
   "source": [
    "x,y,z = map(int,input().split())\n",
    "\n",
    "d = 1\n",
    "while d%x!=0 or d%y!=0 or d%z!=0:\n",
    "    d += 1\n",
    "print(d)"
   ]
  },
  {
   "cell_type": "code",
   "execution_count": 30,
   "id": "6dbf80e8",
   "metadata": {},
   "outputs": [
    {
     "name": "stdout",
     "output_type": "stream",
     "text": [
      "10\n",
      "1 3 2 2 5 6 7 4 5 9\n",
      "1 2 1 1 2 1 1 0 1 0 0 0 0 0 0 0 0 0 0 0 0 0 0 "
     ]
    }
   ],
   "source": [
    "n = int(input())\n",
    "a = input().split()\n",
    "\n",
    "for i in range(n):\n",
    "    a[i] = int(a[i])\n",
    "d = []\n",
    "for i in range(24):\n",
    "    d.append(0)\n",
    "for i in range(n):\n",
    "    d[a[i]] += 1\n",
    "for i in range(1,24):\n",
    "    print(d[i],end=' ')\n",
    "    "
   ]
  },
  {
   "cell_type": "code",
   "execution_count": null,
   "id": "2d2e1cc7",
   "metadata": {},
   "outputs": [],
   "source": []
  }
 ],
 "metadata": {
  "kernelspec": {
   "display_name": "Python 3 (ipykernel)",
   "language": "python",
   "name": "python3"
  },
  "language_info": {
   "codemirror_mode": {
    "name": "ipython",
    "version": 3
   },
   "file_extension": ".py",
   "mimetype": "text/x-python",
   "name": "python",
   "nbconvert_exporter": "python",
   "pygments_lexer": "ipython3",
   "version": "3.9.7"
  }
 },
 "nbformat": 4,
 "nbformat_minor": 5
}
