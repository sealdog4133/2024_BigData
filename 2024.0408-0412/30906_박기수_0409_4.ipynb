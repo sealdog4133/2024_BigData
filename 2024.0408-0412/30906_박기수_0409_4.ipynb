{
 "cells": [
  {
   "cell_type": "markdown",
   "id": "ccb46316",
   "metadata": {},
   "source": [
    "# 30906_박기수_0409_4"
   ]
  },
  {
   "cell_type": "markdown",
   "id": "8396a3af",
   "metadata": {},
   "source": [
    "## 조건문으로 간단한 프로그램 만들기"
   ]
  },
  {
   "cell_type": "code",
   "execution_count": 7,
   "id": "685ac1b9",
   "metadata": {},
   "outputs": [
    {
     "name": "stdout",
     "output_type": "stream",
     "text": [
      "나이가 어떻게 되십니까 : 19\n",
      "6000원 입니다.\n"
     ]
    }
   ],
   "source": [
    "# 목욕탕 가면 미성년자는 6000원 성인 15000원\n",
    "# 나이를 입력 받아서 구분하는 프로그램을 만들어 보자\n",
    "\n",
    "age = int(input('나이가 어떻게 되십니까 : '))\n",
    "\n",
    "if age >= 20:\n",
    "    print(\"15000원 입니다.\")\n",
    "else:\n",
    "    print(\"6000원 입니다.\")"
   ]
  },
  {
   "cell_type": "code",
   "execution_count": 10,
   "id": "d8dcbbeb",
   "metadata": {
    "scrolled": true
   },
   "outputs": [
    {
     "name": "stdout",
     "output_type": "stream",
     "text": [
      "나이가 어떻게 되십니까 : 19\n",
      "6000원 입니다.\n",
      "금액을 투입해 주세요 ---> 8000\n",
      "2000원 거슬러 드리겠습니다.\n",
      "즐거운 이용되십시오\n"
     ]
    }
   ],
   "source": [
    "# 나이 구분\n",
    "# 금액 구분\n",
    "\n",
    "# 1단계\n",
    "\n",
    "age = int(input('나이가 어떻게 되십니까 : '))\n",
    "\n",
    "if age >= 20:\n",
    "    print(\"15000원입니다.\")\n",
    "    price = 15000\n",
    "else:\n",
    "    print(\"6000원 입니다.\")\n",
    "    price = 6000\n",
    "    \n",
    "# 2단계 투입금액을 입력 받아 입장료와 비교하기\n",
    "price_input = int(input('금액을 투입해 주세요 ---> '))\n",
    "\n",
    "if price_input < price:\n",
    "    print(f'{price-price_input}원 더 내셔야 합니다.')\n",
    "    print('즐거운 이용되십시오')\n",
    "elif price_input > price:\n",
    "    print(f'{price_input-price}원 거슬러 드리겠습니다.')\n",
    "    print('즐거운 이용되십시오')\n",
    "else:\n",
    "    print('즐거운 이용되십시오')"
   ]
  },
  {
   "cell_type": "markdown",
   "id": "a43f57ef",
   "metadata": {},
   "source": [
    "'''\n",
    "어떤 메뉴가 궁금하신가요? 라면\n",
    "기본라면 : 3500원\n",
    "떡라면 : 4000원\n",
    "만두라면 : 4000원\n",
    "\n",
    "김밥\n",
    "야채김밥 : 3000원\n",
    "참치김밥 : 4000원\n",
    "꼬마김밥 : 2000원\n",
    "'''"
   ]
  },
  {
   "cell_type": "code",
   "execution_count": null,
   "id": "302c3bfc",
   "metadata": {},
   "outputs": [],
   "source": [
    "bab = int(input())\n",
    "\n",
    "if bab == '라면':\n",
    "    print('기본라면 : 3500원')\n",
    "    print('떡라면 : 4000원')\n",
    "    print('만두라면 : 4000원')\n",
    "elif bab == '김밥':\n",
    "    print('야채김밥 : 3000원')\n",
    "    print('참치김밥 : 4000원')\n",
    "    print('꼬마김밥 : 2000원')\n",
    "else:\n",
    "    print('올바른 메뉴를 입력해 주세요.')"
   ]
  },
  {
   "cell_type": "code",
   "execution_count": null,
   "id": "7bc314ba",
   "metadata": {},
   "outputs": [],
   "source": []
  }
 ],
 "metadata": {
  "kernelspec": {
   "display_name": "Python 3 (ipykernel)",
   "language": "python",
   "name": "python3"
  },
  "language_info": {
   "codemirror_mode": {
    "name": "ipython",
    "version": 3
   },
   "file_extension": ".py",
   "mimetype": "text/x-python",
   "name": "python",
   "nbconvert_exporter": "python",
   "pygments_lexer": "ipython3",
   "version": "3.9.7"
  }
 },
 "nbformat": 4,
 "nbformat_minor": 5
}
