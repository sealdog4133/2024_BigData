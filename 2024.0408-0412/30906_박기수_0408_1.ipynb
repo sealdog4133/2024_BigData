{
 "cells": [
  {
   "cell_type": "markdown",
   "id": "93e05445",
   "metadata": {},
   "source": [
    "# 30906_박기수_0408_1"
   ]
  },
  {
   "cell_type": "markdown",
   "id": "e21b6aac",
   "metadata": {},
   "source": [
    "## 선택구조 조건이 하나 일때\n",
    "- if문"
   ]
  },
  {
   "cell_type": "code",
   "execution_count": 4,
   "id": "f4bc506b",
   "metadata": {},
   "outputs": [
    {
     "name": "stdout",
     "output_type": "stream",
     "text": [
      "청소년은 주류를 구매할 수 없습니다.\n"
     ]
    }
   ],
   "source": [
    "age = 19\n",
    "\n",
    "# 청소년은 주류를 구매할 수 없습니다. 출력\n",
    "\n",
    "if age <= 19:\n",
    "    print('청소년은 주류를 구매할 수 없습니다.')\n",
    "else:\n",
    "    print('가능합니다.')"
   ]
  },
  {
   "cell_type": "code",
   "execution_count": 12,
   "id": "c39bb760",
   "metadata": {},
   "outputs": [
    {
     "name": "stdout",
     "output_type": "stream",
     "text": [
      "나이가 어떻게 되시나요? : 19\n",
      "청소년은 주류를 구매할 수 없습니다.\n"
     ]
    }
   ],
   "source": [
    "age = int(input('나이가 어떻게 되시나요? : '))\n",
    "\n",
    "if age < 20:\n",
    "    print('청소년은 주류를 구매할 수 없습니다.')\n",
    "else :\n",
    "    print('주류를 구매할 수 있습니다.')"
   ]
  },
  {
   "cell_type": "code",
   "execution_count": 13,
   "id": "e797929f",
   "metadata": {},
   "outputs": [
    {
     "name": "stdout",
     "output_type": "stream",
     "text": [
      "나이가 어떻게 되시나요? : 19\n",
      "청소년은 주류를 구매할 수 없습니다.\n",
      "1년 후에 구매 가능합니다.\n"
     ]
    }
   ],
   "source": [
    "age = int(input('나이가 어떻게 되시나요? : '))\n",
    "\n",
    "if age < 20:\n",
    "    print(f'청소년은 주류를 구매할 수 없습니다.')\n",
    "print(f'{20-age}년 후에 구매 가능합니다.')"
   ]
  },
  {
   "cell_type": "markdown",
   "id": "14cc06b3",
   "metadata": {},
   "source": [
    "# 50000원 이하면 배송비 2500원이 추가 됩니다."
   ]
  },
  {
   "cell_type": "code",
   "execution_count": 19,
   "id": "70611cef",
   "metadata": {},
   "outputs": [
    {
     "name": "stdout",
     "output_type": "stream",
     "text": [
      "구매 금액은? 55000\n",
      "배송비 무료입니다.\n",
      "결재 금액은 55000원입니다.\n"
     ]
    }
   ],
   "source": [
    "price = int(input('구매 금액은? '))\n",
    "\n",
    "if price < 50000:\n",
    "    print(f'배송비 2500원이 추가됩니다.')\n",
    "    print(f'결제 금액은 {price+2500}원입니다.')\n",
    "else:\n",
    "    print(f'배송비 무료입니다.')\n",
    "    print(f'결제 금액은 {price}원입니다.')"
   ]
  },
  {
   "cell_type": "code",
   "execution_count": 24,
   "id": "c49e3098",
   "metadata": {},
   "outputs": [
    {
     "name": "stdout",
     "output_type": "stream",
     "text": [
      "오늘은 며칠입니까? 20\n",
      "짝수번호 차량만 통행 가능합니다.\n",
      "홀수번호 차주는 오늘 대중교통을 이용해 주세요.\n"
     ]
    }
   ],
   "source": [
    "date = int(input('오늘은 며칠입니까? '))\n",
    "\n",
    "if date % 2 == 0:\n",
    "    print(f'짝수번호 차량만 통행 가능합니다.')\n",
    "    print(f'홀수번호 차주는 오늘 대중교통을 이용해 주세요.')\n",
    "else:\n",
    "    print(f'홀수번호 차량만 통행 가능합니다.')\n",
    "    print(f'짝수번호 차주는 오늘 대중교통을 이용해 주세요.')"
   ]
  },
  {
   "cell_type": "code",
   "execution_count": null,
   "id": "11df877a",
   "metadata": {},
   "outputs": [],
   "source": []
  },
  {
   "cell_type": "code",
   "execution_count": null,
   "id": "163acc8e",
   "metadata": {},
   "outputs": [],
   "source": []
  },
  {
   "cell_type": "code",
   "execution_count": null,
   "id": "251d016c",
   "metadata": {},
   "outputs": [],
   "source": []
  }
 ],
 "metadata": {
  "kernelspec": {
   "display_name": "Python 3 (ipykernel)",
   "language": "python",
   "name": "python3"
  },
  "language_info": {
   "codemirror_mode": {
    "name": "ipython",
    "version": 3
   },
   "file_extension": ".py",
   "mimetype": "text/x-python",
   "name": "python",
   "nbconvert_exporter": "python",
   "pygments_lexer": "ipython3",
   "version": "3.9.7"
  }
 },
 "nbformat": 4,
 "nbformat_minor": 5
}
