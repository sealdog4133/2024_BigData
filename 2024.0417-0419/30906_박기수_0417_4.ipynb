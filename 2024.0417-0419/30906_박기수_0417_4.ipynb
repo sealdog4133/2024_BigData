{
 "cells": [
  {
   "cell_type": "markdown",
   "id": "06c84763",
   "metadata": {},
   "source": [
    "# 30906_박기수_0417_4"
   ]
  },
  {
   "cell_type": "markdown",
   "id": "29eb3f2d",
   "metadata": {},
   "source": [
    "##### 1. 1부터 1000까지 숫자 중에서  2의 배수이거나 3의 배수면 더하는 프로그램"
   ]
  },
  {
   "cell_type": "code",
   "execution_count": 1,
   "id": "e07b4946",
   "metadata": {},
   "outputs": [
    {
     "name": "stdout",
     "output_type": "stream",
     "text": [
      "1부터 1000까지 숫자 중에서 2의 배수이거나 3의 배수면 더하는 프로그램\n",
      "334167\n"
     ]
    }
   ],
   "source": [
    "# 출력한다\n",
    "print('1부터 1000까지 숫자 중에서 2의 배수이거나 3의 배수면 더하는 프로그램')\n",
    "\n",
    "# 변수를 만들고 초기화 한다.\n",
    "res = 0\n",
    "num = 1\n",
    "\n",
    "# 언제까지 1부터 1000까지 , 반복문 , while\n",
    "# 2의 배수 이거나 3의 배수\n",
    "# num % 2 == 0\n",
    "# 이거나 or\n",
    "# 3의 배수 num % 3 == 0\n",
    "while num <= 1000:\n",
    "    if num % 2 == 0 or num % 3 == 0:\n",
    "        res += num\n",
    "    num += 1\n",
    "print(res)\n",
    "        \n"
   ]
  },
  {
   "cell_type": "code",
   "execution_count": 3,
   "id": "1d637735",
   "metadata": {},
   "outputs": [
    {
     "name": "stdout",
     "output_type": "stream",
     "text": [
      "1부터 1000까지 숫자 중에서 2의 배수이거나 3의 배수면 더하는 프로그램\n",
      "334167\n"
     ]
    }
   ],
   "source": [
    "# 출력한다\n",
    "print('1부터 1000까지 숫자 중에서 2의 배수이거나 3의 배수면 더하는 프로그램')\n",
    "# 변수를 만들고 초기화 한다.\n",
    "res = 0\n",
    "num = 1\n",
    "\n",
    "# 언제까지 1부터 1000까지, 반복문, while\n",
    "# 2의 배수 이거나 3의 배수\n",
    "# num % 2 == 0\n",
    "# 이거나 or\n",
    "# 3의 배수 num $ 3 == 0\n",
    "while num <= 1000:\n",
    "    if num % 2 ==0 or num % 3 == 0:\n",
    "        res += num\n",
    "    num += 1\n",
    "print(res)"
   ]
  },
  {
   "cell_type": "code",
   "execution_count": 4,
   "id": "d7981c50",
   "metadata": {},
   "outputs": [
    {
     "name": "stdout",
     "output_type": "stream",
     "text": [
      "334167\n"
     ]
    }
   ],
   "source": [
    "# 1부터 1000까지의 숫자를 반복하면서 조건을 검사합니다.\n",
    "while num <= 1000:\n",
    "    # 만약 현재 숫자가 2의 배수이거나 3의 배수라면\n",
    "    if num % 2 == 0 or num % 3 == 0:\n",
    "        res += num\n",
    "print(res)"
   ]
  },
  {
   "cell_type": "code",
   "execution_count": null,
   "id": "332ba8cf",
   "metadata": {},
   "outputs": [
    {
     "name": "stdout",
     "output_type": "stream",
     "text": [
      "구구단을 외차! 구구단을 외자\n",
      "7x8 = ?\n",
      "56\n",
      "정답!\n",
      "2x6 = ?\n"
     ]
    }
   ],
   "source": [
    "import random\n",
    "# 사용자에게 구구단을 외라는 메세지를 출력합니다.\n",
    "print('구구단을 외차! 구구단을 외자')\n",
    "\n",
    "# 맞은 횟수와 틀린 횟수를 저장할 변수를 초기화합니다.\n",
    "t_cnt = 0\n",
    "f_cnt = 0\n",
    "\n",
    "# 10번 반복하여 구구단 문제를 출제합니다.\n",
    "for i in range(10):\n",
    "    # 2에서 9까지의 임의의 숫자를 선택하여 구구단의 단을 결정합니다.\n",
    "    a = random.randint(2, 9)\n",
    "    # 1에서 9까지의 임의의 숫자를 선택하여 구구단의 곱을 결정합니다.\n",
    "    b = random.randint(1, 9)\n",
    "    # 문제를 출력합니다.\n",
    "    print('{}x{} = ?'.format(a, b))\n",
    "    # 사용자로부터 답을 입력받습니다.\n",
    "    answer = int(input(''))\n",
    "    # 사용자의 답과 정답을 비교하여 결과를 출력합니다.\n",
    "    if a * b == answer:\n",
    "        print('정답!')\n",
    "        #맞은 횟수를 증가시킵니다.\n",
    "        t_cnt = t_cnt + 1\n",
    "    else:\n",
    "        print('틀렸어요!')\n",
    "        # 틀린 횟수를 증가시킵니다.\n",
    "        f_cnt = f_cnt + 1\n",
    "        \n",
    "# 최종적으로 맞은 횟수와 틀린 횟수를 출력합니다.\n",
    "print('맞춘 횟수 : {}, 틀린 횟수 :{}'.format(t_cnt, f_cnt))"
   ]
  },
  {
   "cell_type": "code",
   "execution_count": null,
   "id": "fa6d9326",
   "metadata": {},
   "outputs": [],
   "source": []
  },
  {
   "cell_type": "code",
   "execution_count": null,
   "id": "84730979",
   "metadata": {},
   "outputs": [],
   "source": []
  }
 ],
 "metadata": {
  "kernelspec": {
   "display_name": "Python 3 (ipykernel)",
   "language": "python",
   "name": "python3"
  },
  "language_info": {
   "codemirror_mode": {
    "name": "ipython",
    "version": 3
   },
   "file_extension": ".py",
   "mimetype": "text/x-python",
   "name": "python",
   "nbconvert_exporter": "python",
   "pygments_lexer": "ipython3",
   "version": "3.9.7"
  }
 },
 "nbformat": 4,
 "nbformat_minor": 5
}
