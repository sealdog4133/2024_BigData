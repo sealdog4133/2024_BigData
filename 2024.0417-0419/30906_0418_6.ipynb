{
 "cells": [
  {
   "cell_type": "markdown",
   "id": "e3d7e545",
   "metadata": {},
   "source": [
    "# 30906_0418_6"
   ]
  },
  {
   "cell_type": "code",
   "execution_count": 1,
   "id": "2d7bf09b",
   "metadata": {},
   "outputs": [
    {
     "name": "stdout",
     "output_type": "stream",
     "text": [
      "월 별로 수입액을 입력시켜 주세요!\n",
      "1 월의 수입액을 입력시켜 주세요\n",
      "57\n",
      "2 월의 수입액을 입력시켜 주세요\n",
      "45\n",
      "3 월의 수입액을 입력시켜 주세요\n",
      "36\n",
      "4 월의 수입액을 입력시켜 주세요\n",
      "65\n",
      "5 월의 수입액을 입력시켜 주세요\n",
      "33\n",
      "6 월의 수입액을 입력시켜 주세요\n",
      "52\n",
      "상반기 월별 수입액 입니다.\n",
      "상반기 월 수입액의 총액은 288 만원 입니다.\n",
      "상반기 월 수입액의 평균은 48.0 만원 입니다.\n"
     ]
    }
   ],
   "source": [
    "money = [] # 월별 수입을 저장할 리스트를 초기화 합니다.\n",
    "print('월 별로 수입액을 입력시켜 주세요!')\n",
    "for j in range(0,6):\n",
    "    print((j+1),'월의 수입액을 입력시켜 주세요')\n",
    "    money.append(int(input(''))) # 사용자로부터 수입을 입력 받아 리스트에 추가합니다.\n",
    "    \n",
    "sum = 0 # 총 수입을 저장할 변수를 초기화합니다.\n",
    "i = 0\n",
    "print('상반기 월별 수입액 입니다.')\n",
    "while i < 6:\n",
    "    sum = money[i] + sum # 리스트의 각 항목을 더해 총 수입을 계산합니다.\n",
    "    i = i + 1\n",
    "avg = sum / 6 # 평균을 계산합니다.\n",
    "print('상반기 월 수입액의 총액은', sum, '만원 입니다.')\n",
    "print('상반기 월 수입액의 평균은', avg, '만원 입니다.')"
   ]
  },
  {
   "cell_type": "markdown",
   "id": "a5c2713a",
   "metadata": {},
   "source": [
    "## 예상문제4 : 무작위로 입력된 점수 리스트에서 70점 이상인 번호와 값 출력하기"
   ]
  },
  {
   "cell_type": "code",
   "execution_count": 2,
   "id": "d41b2179",
   "metadata": {},
   "outputs": [
    {
     "name": "stdout",
     "output_type": "stream",
     "text": [
      "리스트에서 점수가 70점 이상인 번호와 값 출력하기\n",
      "3 번 72\n",
      "10 번 79\n",
      "16 번 87\n",
      "20 번 76\n",
      "24 번 84\n"
     ]
    }
   ],
   "source": [
    "import random\n",
    "score = [] # 점수를 저장할 리스트를 초기화합니다.\n",
    "\n",
    "# 25명의 학생들에게 무작위로 점수를 부여합니다.\n",
    "for i in range(0,25):\n",
    "    score.append(random.randint(0,100))\n",
    "print('리스트에서 점수가 70점 이상인 번호와 값 출력하기')\n",
    "\n",
    "# 리스트에서 70점 이상인 점수를 가진 학생들의 번호와 점수를 출력합니다.\n",
    "for s in score:\n",
    "    if s>=70:\n",
    "        print(score.index(s)+1,'번',s)"
   ]
  },
  {
   "cell_type": "markdown",
   "id": "52ae45fa",
   "metadata": {},
   "source": [
    "## 예상문제 5: 지하철 게임 만들기"
   ]
  },
  {
   "cell_type": "code",
   "execution_count": 3,
   "id": "35160d7a",
   "metadata": {},
   "outputs": [
    {
     "name": "stdout",
     "output_type": "stream",
     "text": [
      "지하철지하철지하철지하철\n",
      "몇호선?8\n"
     ]
    }
   ],
   "source": [
    "print('지하철'*4)\n",
    "\n",
    "# 사용자로부터 호선을 입력받습니다.\n",
    "호선 = input('몇호선?')\n",
    "\n",
    "# 입력된 호선에 따라 해당 호선의 역이름을 입력받고, 입력된 역이 해당 호선에 속하는지 확인합니다.\n",
    "for i in range(10):\n",
    "    if 호선 == '신분당선':\n",
    "        입력 = input()\n",
    "        if 입력 not in 신분당선:\n",
    "            print('땡! 해당 역은',호선,'이 아닙니다!')\n",
    "            print('벌칙 당첨!!')\n",
    "            break\n",
    "    elif 호선 == '팔호선':\n",
    "        입력 = input()\n",
    "        if 입력 not in 팔호선:\n",
    "            print('땡! 해당 역은',호선,'이 아닙니다!')\n",
    "            print('벌칙 당첨!!')\n",
    "            break"
   ]
  },
  {
   "cell_type": "code",
   "execution_count": null,
   "id": "1a280cf9",
   "metadata": {},
   "outputs": [],
   "source": []
  },
  {
   "cell_type": "code",
   "execution_count": null,
   "id": "adbfd675",
   "metadata": {},
   "outputs": [],
   "source": []
  },
  {
   "cell_type": "code",
   "execution_count": null,
   "id": "76dbf0f4",
   "metadata": {},
   "outputs": [],
   "source": []
  }
 ],
 "metadata": {
  "kernelspec": {
   "display_name": "Python 3 (ipykernel)",
   "language": "python",
   "name": "python3"
  },
  "language_info": {
   "codemirror_mode": {
    "name": "ipython",
    "version": 3
   },
   "file_extension": ".py",
   "mimetype": "text/x-python",
   "name": "python",
   "nbconvert_exporter": "python",
   "pygments_lexer": "ipython3",
   "version": "3.9.7"
  }
 },
 "nbformat": 4,
 "nbformat_minor": 5
}
