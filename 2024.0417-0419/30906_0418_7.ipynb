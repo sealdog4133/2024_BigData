{
 "cells": [
  {
   "cell_type": "code",
   "execution_count": null,
   "id": "2b8bd396",
   "metadata": {},
   "outputs": [
    {
     "name": "stdout",
     "output_type": "stream",
     "text": [
      "월 별로 수입액을 입력시켜 주세요!\n",
      "1 월의 수입액을 입력시켜 주세요\n"
     ]
    }
   ],
   "source": [
    "money = [] # 월별 수입을 저장할 리스트를 초기화 합니다.\n",
    "print('월 별로 수입액을 입력시켜 주세요!')\n",
    "for j in range(0,6):\n",
    "    print((j+1),'월의 수입액을 입력시켜 주세요')\n",
    "    money.append(int(input(''))) # 사용자로부터 입력 받아 리스트에 추가합니다.\n",
    "\n",
    "sum = 0 # 총 수입을 저장할 변수를 초기화합니다.\n",
    "i = 0\n",
    "print('상반기 월별 수입액 입니다.')\n",
    "while i < 6:\n",
    "    sum = money[i] + sum # 리스트의 각 항목을 더해 총 수입을 계산합니다.\n",
    "    i = i + 1\n",
    "avg = sum / 6 # 평균을 계산합니다.\n",
    "print('상반기 월 수입액의 총액은', sum, '만원 입니다.')\n",
    "print('상반기 월 수입액의 평균은', avg, '만원 입니다.')"
   ]
  },
  {
   "cell_type": "code",
   "execution_count": null,
   "id": "701bd549",
   "metadata": {},
   "outputs": [],
   "source": [
    "money = [] # 월별 수입을 저장할 리스트를 초기화 합니다.\n",
    "print('월 별로 수입액을 입력시켜 주세요!')\n",
    "for j in range(0,6):\n",
    "    print((j+1),'월의 수입액을 입력시켜 주세요')\n",
    "    money.append(int(input(''))) # 사용자로부터 입력 받아 리스트에 추가합니다.\n",
    "\n",
    "sum = 0 # 총 수입을 저장할 변수를 초기화합니다.\n",
    "i = 0\n",
    "print('상반기 월별 수입액 입니다.')\n",
    "while i < 6:\n",
    "    sum = money[i] + sum # 리스트의 각 항목을 더해 총 수입을 계산합니다.\n",
    "    i = i + 1\n",
    "avg = sum / 6 # 평균을 계산합니다.\n",
    "print('상반기 월 수입액의 총액은', sum, '만원 입니다.')\n",
    "print('상반기 월 수입액의 평균은', avg, '만원 입니다.')"
   ]
  },
  {
   "cell_type": "code",
   "execution_count": null,
   "id": "86f5432f",
   "metadata": {},
   "outputs": [],
   "source": [
    "import random\n",
    "score = [] # 점수를 저장할 리스트를 초기화합니다.\n",
    "\n",
    "# 25명의 학생들에게 무작위로 점수를 부여합니다.\n",
    "for i in range(0,25):\n",
    "    score.append(random.randint(0,100))\n",
    "print('리스트에서 점수가 70점 이상인 번호와 값 출력하기')\n",
    "\n",
    "# 리스트에서 70점 이상인 점수를 가진 학생들의 번호와 점수를 출력합니다.\n",
    "for s in score:\n",
    "    if s >= 70:\n",
    "        print(score.index(s)+1,'번',s)"
   ]
  },
  {
   "cell_type": "code",
   "execution_count": null,
   "id": "4436ea30",
   "metadata": {},
   "outputs": [],
   "source": [
    "import random\n",
    "score = [] # 점수를 저장할 리스트를 초기화합니다.\n",
    "\n",
    "# 25명의 학생들에게 무작위로 점수를 부여합니다.\n",
    "for i in range(0,25):\n",
    "    score.append(random.randint(0,100))\n",
    "print('리스트에서 점수가 70점 이상인 번호와 값 출력하기')\n",
    "\n",
    "# 리스트에서 70점 이상인 점수를 가진 학생들의 번호와 점수를 출력합니다.\n",
    "for s in score:\n",
    "    is s >= 70:\n",
    "        print(score.index(s)+1,'번',s)"
   ]
  },
  {
   "cell_type": "code",
   "execution_count": null,
   "id": "f5b89fb6",
   "metadata": {},
   "outputs": [],
   "source": [
    "신분당선 = ['광교','광교중앙','상현','성복','수지구청','동천','미금','정자','판교','청계산입구','양재시민의숲','양재','강남']\n",
    "\n",
    "팔호선 = ['모란','수진','신흥','단대오거리','남한산성입구','산성','남위례','복정','장지','문정','가락시장','송파','석촌','잠실','몽촌토성','강동구청','천호','암사']\n",
    "\n",
    "print('지하철'*4)\n",
    "\n",
    "# 사용자로부터 호선을 입력받습니다.\n",
    "호선 = input('몇호선?')\n",
    "\n",
    "# 입력된 호선에 따라 해당 호선의 역이름을 입력받고, 입력된 역이 해당 호선에 속하는지 확인합니다.\n",
    "for i in range(10):\n",
    "    if 호선 == '신분당선':\n",
    "        입력 = input()\n",
    "        if 입력 not in 신분당선:\n",
    "            print('땡! 해당 역은',호선,'이 아닙니다!')\n",
    "            print('벌칙 당첨!!')\n",
    "            break\n",
    "    elif 호선 == '팔호선':\n",
    "        입력 = input()\n",
    "        if 입력 not in 팔호선:\n",
    "            print('땡! 해당 역은',호선,'이 아닙니다!')\n",
    "            print('벌칙 당첨!!')\n",
    "            break"
   ]
  },
  {
   "cell_type": "code",
   "execution_count": null,
   "id": "30bfef65",
   "metadata": {},
   "outputs": [],
   "source": [
    "신분당선 = ['광교','광교중앙','상현','성복','수지구청','동천','미금','정자','판교','청계산입구','양재시민의숲','양재','강남']\n",
    "\n",
    "팔호선 = ['모란','수진','신흥','단대오거리','남한산성입구','산성','남위례','복정','장지','문정','가락시장','송파','석촌','잠실','몽촌토성','강동구청','천호','암사']\n",
    "\n",
    "print('지하철'*4)\n",
    "\n",
    "# 사용자로부터 호선을 입력받습니다.\n",
    "호선 = input('몇호선?')\n",
    "\n",
    "# 입력된 호선에 따라 해당 호선의 역이름을 입력받고, 입력된 역이 해당 호선에 속하는지 확인합니다.\n",
    "for i in range(10):\n",
    "    if 호선 == '신분당선':\n",
    "        입력 = input()\n",
    "        if 입력 not in 신분당선:\n",
    "            print('땡! 해당 역은',호선,'이 아닙니다!')\n",
    "            print('벌칙 당첨!!')\n",
    "            break\n",
    "    elif 호선 == '팔호선':\n",
    "        입력 = input()\n",
    "        if 입력 not in 팔호선:\n",
    "            print('땡! 해당 역은',호선,'이 아닙니다!')\n",
    "            print('벌칙 당첨!!')\n",
    "            break"
   ]
  },
  {
   "cell_type": "code",
   "execution_count": null,
   "id": "1a06da13",
   "metadata": {},
   "outputs": [],
   "source": [
    "# 출력한다\n",
    "print('1부터 1000까지 숫자 중에서 2의 배수이거나 3의 배수면 더하는 프로그램')\n",
    "# 변수를 만들고 초기화 한다.\n",
    "res = 0\n",
    "num = 1\n",
    "\n",
    "# 언제까지 1부터 1000까지, 반복문, while\n",
    "# 2의 배수 이거나 3의 배수\n",
    "# num % 2 == 0\n",
    "# 이거나 or\n",
    "# 3의 배수 num $ 3 == 0\n",
    "while num <= 1000:\n",
    "    if num % 2 ==0 or num % 3 == 0:\n",
    "        res += num\n",
    "    num += 1\n",
    "print(res)"
   ]
  },
  {
   "cell_type": "code",
   "execution_count": null,
   "id": "d3daccda",
   "metadata": {},
   "outputs": [],
   "source": [
    "# 출력한다\n",
    "print('1부터 1000까지 숫자 중에서 2의 배수이거나 3의 배수면 더하는 프로그램')\n",
    "# 변수를 만들고 초기화 한다.\n",
    "res = 0\n",
    "num = 1\n",
    "\n",
    "# 언제까지 1부터 1000까지, 반복문, while\n",
    "# 2의 배수 이거나 3의 배수\n",
    "# num % 2 == 0\n",
    "# 이거나 or\n",
    "# 3의 배수 num $ 3 == 0\n",
    "while num <= 1000:\n",
    "    if num % 2 ==0 or num % 3 == 0:\n",
    "        res += num\n",
    "    num += 1\n",
    "print(res)"
   ]
  },
  {
   "cell_type": "code",
   "execution_count": null,
   "id": "c5fa5d60",
   "metadata": {},
   "outputs": [],
   "source": [
    "import random\n",
    "# 사용자에게 구구단을 외라는 메세지를 출력합니다.\n",
    "print('구구단을 외차! 구구단을 외자')\n",
    "\n",
    "# 맞은 횟수와 틀린 횟수를 저장할 변수를 초기화합니다.\n",
    "t_cnt = 0\n",
    "f_cnt = 0\n",
    "\n",
    "# 10번 반복하여 구구단 문제를 출제합니다.\n",
    "for i in range(10):\n",
    "    # 2에서 9까지의 임의의 숫자를 선택하여 구구단의 단을 결정합니다.\n",
    "    a = random.randint(2, 9)\n",
    "    # 1에서 9까지의 임의의 숫자를 선택하여 구구단의 곱을 결정합니다.\n",
    "    b = random.randint(1, 9)\n",
    "    # 문제를 출력합니다.\n",
    "    print('{}x{} = ?'.format(a, b))\n",
    "    # 사용자로부터 답을 입력받습니다.\n",
    "    answer = int(input(''))\n",
    "    # 사용자의 답과 정답을 비교하여 결과를 출력합니다.\n",
    "    if a * b == answer:\n",
    "        print('정답!')\n",
    "        #맞은 횟수를 증가시킵니다.\n",
    "        t_cnt = t_cnt + 1\n",
    "    else:\n",
    "        print('틀렸어요!')\n",
    "        # 틀린 횟수를 증가시킵니다.\n",
    "        f_cnt = f_cnt + 1\n",
    "        \n",
    "# 최종적으로 맞은 횟수와 틀린 횟수를 출력합니다.\n",
    "print('맞춘 횟수 : {}, 틀린 횟수 :{}'.format(t_cnt, f_cnt))"
   ]
  },
  {
   "cell_type": "code",
   "execution_count": null,
   "id": "7933e0a7",
   "metadata": {},
   "outputs": [],
   "source": [
    "import random\n",
    "# 사용자에게 구구단을 외라는 메세지를 출력합니다.\n",
    "print('구구단을 외차! 구구단을 외자')\n",
    "\n",
    "# 맞은 횟수와 틀린 횟수를 저장할 변수를 초기화합니다.\n",
    "t_cnt = 0\n",
    "f_cnt = 0\n",
    "\n",
    "# 10번 반복하여 구구단 문제를 출제합니다.\n",
    "for i in range(10):\n",
    "    # 2에서 9까지의 임의의 숫자를 선택하여 구구단의 단을 결정합니다.\n",
    "    a = random.randint(2, 9)\n",
    "    # 1에서 9까지의 임의의 숫자를 선택하여 구구단의 곱을 결정합니다.\n",
    "    b = random.randint(1, 9)\n",
    "    # 문제를 출력합니다.\n",
    "    print('{}x{} = ?'.format(a, b))\n",
    "    # 사용자로부터 답을 입력받습니다.\n",
    "    answer = int(input(''))\n",
    "    # 사용자의 답과 정답을 비교하여 결과를 출력합니다.\n",
    "    if a * b == answer:\n",
    "        print('정답!')\n",
    "        #맞은 횟수를 증가시킵니다.\n",
    "        t_cnt = t_cnt + 1\n",
    "    else:\n",
    "        print('틀렸어요!')\n",
    "        # 틀린 횟수를 증가시킵니다.\n",
    "        f_cnt = f_cnt + 1\n",
    "        \n",
    "# 최종적으로 맞은 횟수와 틀린 횟수를 출력합니다.\n",
    "print('맞춘 횟수 : {}, 틀린 횟수 :{}'.format(t_cnt, f_cnt))"
   ]
  },
  {
   "cell_type": "code",
   "execution_count": null,
   "id": "cf0943b4",
   "metadata": {},
   "outputs": [],
   "source": []
  },
  {
   "cell_type": "code",
   "execution_count": null,
   "id": "6a9b079c",
   "metadata": {},
   "outputs": [],
   "source": []
  },
  {
   "cell_type": "code",
   "execution_count": null,
   "id": "377390eb",
   "metadata": {},
   "outputs": [],
   "source": []
  },
  {
   "cell_type": "code",
   "execution_count": null,
   "id": "de4a079f",
   "metadata": {},
   "outputs": [],
   "source": []
  },
  {
   "cell_type": "code",
   "execution_count": null,
   "id": "2ed86f03",
   "metadata": {},
   "outputs": [],
   "source": []
  },
  {
   "cell_type": "code",
   "execution_count": null,
   "id": "b228675a",
   "metadata": {},
   "outputs": [],
   "source": []
  },
  {
   "cell_type": "code",
   "execution_count": null,
   "id": "96fce92d",
   "metadata": {},
   "outputs": [],
   "source": []
  },
  {
   "cell_type": "code",
   "execution_count": null,
   "id": "67fb424d",
   "metadata": {},
   "outputs": [],
   "source": []
  },
  {
   "cell_type": "code",
   "execution_count": null,
   "id": "ca18831f",
   "metadata": {},
   "outputs": [],
   "source": []
  },
  {
   "cell_type": "code",
   "execution_count": null,
   "id": "adb3f708",
   "metadata": {},
   "outputs": [],
   "source": []
  },
  {
   "cell_type": "code",
   "execution_count": null,
   "id": "f0f7bff8",
   "metadata": {},
   "outputs": [],
   "source": []
  },
  {
   "cell_type": "code",
   "execution_count": null,
   "id": "3d6965f6",
   "metadata": {},
   "outputs": [],
   "source": []
  },
  {
   "cell_type": "code",
   "execution_count": null,
   "id": "060e19cc",
   "metadata": {},
   "outputs": [],
   "source": []
  }
 ],
 "metadata": {
  "kernelspec": {
   "display_name": "Python 3 (ipykernel)",
   "language": "python",
   "name": "python3"
  },
  "language_info": {
   "codemirror_mode": {
    "name": "ipython",
    "version": 3
   },
   "file_extension": ".py",
   "mimetype": "text/x-python",
   "name": "python",
   "nbconvert_exporter": "python",
   "pygments_lexer": "ipython3",
   "version": "3.9.7"
  }
 },
 "nbformat": 4,
 "nbformat_minor": 5
}
