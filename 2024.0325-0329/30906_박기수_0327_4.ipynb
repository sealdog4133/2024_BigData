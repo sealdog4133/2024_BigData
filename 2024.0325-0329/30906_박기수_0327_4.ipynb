{
  "nbformat": 4,
  "nbformat_minor": 0,
  "metadata": {
    "colab": {
      "provenance": []
    },
    "kernelspec": {
      "name": "python3",
      "display_name": "Python 3"
    },
    "language_info": {
      "name": "python"
    }
  },
  "cells": [
    {
      "cell_type": "markdown",
      "source": [
        "# 30906_박기수_0327_4"
      ],
      "metadata": {
        "id": "8K9rd7Me6eJL"
      }
    },
    {
      "cell_type": "code",
      "execution_count": 1,
      "metadata": {
        "colab": {
          "base_uri": "https://localhost:8080/"
        },
        "id": "cadg05RH6NCB",
        "outputId": "ba7afe0c-a836-40d2-ee24-f82392b6ec1d"
      },
      "outputs": [
        {
          "output_type": "stream",
          "name": "stdout",
          "text": [
            "학생 그룹 점수의 합계와 평균을 구합니다.\n",
            "1번 학생의 점수를 입력하세요.: 1\n",
            "2번 학생의 점수를 입력하세요.: 2\n",
            "3번 학생의 점수를 입력하세요.: 3\n",
            "4번 학생의 점수를 입력하세요.: 4\n",
            "5번 학생의 점수를 입력하세요.: 5\n",
            "합계는 15점입니다.\n",
            "평균은 3.0점입니다.\n"
          ]
        }
      ],
      "source": [
        "print('학생 그룹 점수의 합계와 평균을 구합니다.')\n",
        "\n",
        "a = int(input('1번 학생의 점수를 입력하세요.: '))\n",
        "b = int(input('2번 학생의 점수를 입력하세요.: '))\n",
        "c = int(input('3번 학생의 점수를 입력하세요.: '))\n",
        "d = int(input('4번 학생의 점수를 입력하세요.: '))\n",
        "e = int(input('5번 학생의 점수를 입력하세요.: '))\n",
        "\n",
        "x = (a+b+c+d+e)\n",
        "y = (x/5)\n",
        "\n",
        "print(f'합계는 {x}점입니다.')\n",
        "print(f'평균은 {y}점입니다.')"
      ]
    },
    {
      "cell_type": "code",
      "source": [
        "배열 : 묶음 단위로 값을 저장하는 자료구조\n",
        "    - 원소 : 배열에 저장된 각 객체\n",
        "    - 각 원소는 0,1,----------순서대로 인덕세(주소)를 부여받음\n",
        "    - 원소의 자료형은 int형 float형 어떤 것도 상관없음\n",
        "    - 서로 다른 자료형을 걸어 저장할 수 있음\n",
        "    - 배열 원소 자체를 배열에 저장할 수 있음\n"
      ],
      "metadata": {
        "id": "yHuW33Cr921q"
      },
      "execution_count": null,
      "outputs": []
    },
    {
      "cell_type": "code",
      "source": [
        " # list 선언\n",
        "list01 = []\n",
        "a = [1,2,3,4,5]\n",
        "b = ['A','B','C']\n",
        "\n",
        "print(a)\n",
        "print(b)"
      ],
      "metadata": {
        "colab": {
          "base_uri": "https://localhost:8080/"
        },
        "id": "RYPezOCq-epk",
        "outputId": "912ba4e8-2c26-4a17-a058-57842452353b"
      },
      "execution_count": 3,
      "outputs": [
        {
          "output_type": "stream",
          "name": "stdout",
          "text": [
            "[1, 2, 3, 4, 5]\n",
            "['A', 'B', 'C']\n"
          ]
        }
      ]
    },
    {
      "cell_type": "markdown",
      "source": [
        "- 튜플\n",
        "  - 원소에 순서를 매겨 결함한 것으로 원소를\n",
        "  변경할 수 없는 자료형\n",
        "  - ()만 사용하면 빈 튜플 생성\n",
        "\n"
      ],
      "metadata": {
        "id": "ZVxNDJJW-4QK"
      }
    },
    {
      "cell_type": "code",
      "source": [],
      "metadata": {
        "id": "u6QMChnq-6LS"
      },
      "execution_count": null,
      "outputs": []
    }
  ]
}