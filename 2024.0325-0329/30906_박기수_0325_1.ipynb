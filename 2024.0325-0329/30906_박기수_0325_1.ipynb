{
 "cells": [
  {
   "cell_type": "markdown",
   "id": "92ba8a7f",
   "metadata": {},
   "source": [
    "# 30906_박기수_0325_1"
   ]
  },
  {
   "cell_type": "code",
   "execution_count": 5,
   "id": "50bae0cb",
   "metadata": {},
   "outputs": [
    {
     "name": "stdout",
     "output_type": "stream",
     "text": [
      "1부터 n까지 정수의 합을 구합니다.\n",
      "n값을 입력하세요.: 100\n",
      "1부터 100까지 정수의 합은 5050입니다.\n"
     ]
    }
   ],
   "source": [
    "# 1부터 n까지 정수의 합 구하기\n",
    "\n",
    "print('1부터 n까지 정수의 합을 구합니다.')\n",
    "\n",
    "# n값이 0보다 크면 빠져나간다.\n",
    "while True:\n",
    "    n = int(input('n값을 입력하세요.: '))\n",
    "    if n > 0:\n",
    "        break\n",
    "\n",
    "#변수 선언 및 초기화\n",
    "sum = 0\n",
    "i = 1\n",
    "\n",
    "for i in range(1, n+1):\n",
    "    sum += i\n",
    "    i += 1\n",
    "    \n",
    "print(f'1부터 {n}까지 정수의 합은 {sum}입니다.')"
   ]
  },
  {
   "cell_type": "markdown",
   "id": "17550d0e",
   "metadata": {},
   "source": [
    "- 변의 길이와 넓이가 모두 정수인 직사각형에서 변의 길이를 구하는 프로그램\n",
    "- 짧은 변과 긴 변의 길이는 구별하지 않음\n",
    "    - 예)직사각형의 넓이가 32이면 변의 길이를 1 x 32, 2 x 16, 4 x 8만 출력"
   ]
  },
  {
   "cell_type": "code",
   "execution_count": 19,
   "id": "205afb67",
   "metadata": {},
   "outputs": [
    {
     "name": "stdout",
     "output_type": "stream",
     "text": [
      "직사각형의 넓이를 입력하세요.: 126126126\n",
      "1 x 126126126\n",
      "2 x 63063063\n",
      "3 x 42042042\n",
      "6 x 21021021\n",
      "7 x 18018018\n",
      "9 x 14014014\n",
      "14 x 9009009\n",
      "18 x 7007007\n",
      "21 x 6006006\n",
      "27 x 4671338\n",
      "42 x 3003003\n",
      "54 x 2335669\n",
      "63 x 2002002\n",
      "126 x 1001001\n",
      "189 x 667334\n",
      "378 x 333667\n"
     ]
    }
   ],
   "source": [
    "# 가로, 세로 길이가 정수이고 넓이가 area인 직사각형에서 변의 길이 나열하기\n",
    "\n",
    "area = int(input('직사각형의 넓이를 입력하세요.: '))\n",
    "\n",
    "for i in range(1, area+1):\n",
    "    if i * i > area : break\n",
    "    if area % i :continue\n",
    "    print(f'{i} x {area // i}')"
   ]
  },
  {
   "cell_type": "code",
   "execution_count": null,
   "id": "4d28c410",
   "metadata": {},
   "outputs": [],
   "source": []
  },
  {
   "cell_type": "code",
   "execution_count": null,
   "id": "2e94313f",
   "metadata": {},
   "outputs": [],
   "source": []
  }
 ],
 "metadata": {
  "kernelspec": {
   "display_name": "Python 3 (ipykernel)",
   "language": "python",
   "name": "python3"
  },
  "language_info": {
   "codemirror_mode": {
    "name": "ipython",
    "version": 3
   },
   "file_extension": ".py",
   "mimetype": "text/x-python",
   "name": "python",
   "nbconvert_exporter": "python",
   "pygments_lexer": "ipython3",
   "version": "3.9.7"
  }
 },
 "nbformat": 4,
 "nbformat_minor": 5
}
